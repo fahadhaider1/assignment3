{
  "nbformat": 4,
  "nbformat_minor": 0,
  "metadata": {
    "colab": {
      "provenance": []
    },
    "kernelspec": {
      "name": "python3",
      "display_name": "Python 3"
    },
    "language_info": {
      "name": "python"
    }
  },
  "cells": [
    {
      "cell_type": "code",
      "execution_count": 2,
      "metadata": {
        "id": "nw1dvjp5pUqo",
        "colab": {
          "base_uri": "https://localhost:8080/"
        },
        "outputId": "5e8d295b-f616-424e-c16c-a3ff7c2234d9"
      },
      "outputs": [
        {
          "output_type": "stream",
          "name": "stdout",
          "text": [
            "negative\n"
          ]
        }
      ],
      "source": [
        "num=-1\n",
        "if num>=0:\n",
        "  print(\"positive\")\n",
        "else:\n",
        "  print(\"negative\")"
      ]
    },
    {
      "cell_type": "code",
      "source": [
        "num=18\n",
        "if num>=18:\n",
        "  print(\"eligible to vote\")\n",
        "else:\n",
        "  print(\"not eligible to vote\")"
      ],
      "metadata": {
        "colab": {
          "base_uri": "https://localhost:8080/"
        },
        "id": "fGgR51kSnPvV",
        "outputId": "0aafcfa2-2eed-4be8-d5db-33a3208a2ff6"
      },
      "execution_count": 3,
      "outputs": [
        {
          "output_type": "stream",
          "name": "stdout",
          "text": [
            "eligible to vote\n"
          ]
        }
      ]
    },
    {
      "cell_type": "code",
      "source": [
        "num1=10\n",
        "num2=20\n",
        "if num1>num2:\n",
        "  max_num=num1\n",
        "  print(\"greather number is:\",max_num)\n",
        "else:\n",
        "   max_num=num2\n",
        "   print(\"greather number is\",max_num)\n",
        "\n"
      ],
      "metadata": {
        "colab": {
          "base_uri": "https://localhost:8080/"
        },
        "id": "3uVvuYwJoayI",
        "outputId": "cae61ed7-e903-45e3-aa0b-e64f441b58a5"
      },
      "execution_count": 16,
      "outputs": [
        {
          "output_type": "stream",
          "name": "stdout",
          "text": [
            "greather number is 20\n"
          ]
        }
      ]
    },
    {
      "cell_type": "code",
      "source": [
        "# Python program to check if a year is a leap year or not\n",
        "\n",
        "# Take input year from the user\n",
        "year = int(input(\"Enter a year: \"))\n",
        "\n",
        "# Check if the year is a leap year or not\n",
        "if year % 4 == 0:\n",
        "    if year % 100 == 0:\n",
        "        if year % 400 == 0:\n",
        "            print(year, \"is a leap year\")\n",
        "        else:\n",
        "            print(year, \"is not a leap year\")\n",
        "    else:\n",
        "        print(year, \"is a leap year\")\n",
        "else:\n",
        "    print(year, \"is not a leap year\")"
      ],
      "metadata": {
        "colab": {
          "base_uri": "https://localhost:8080/"
        },
        "id": "EPbO6WpDpAfv",
        "outputId": "7088747a-af16-4826-f46d-38eb1d0fe51e"
      },
      "execution_count": 24,
      "outputs": [
        {
          "output_type": "stream",
          "name": "stdout",
          "text": [
            "Enter a year: 2028\n",
            "2028 is a leap year\n"
          ]
        }
      ]
    },
    {
      "cell_type": "code",
      "source": [
        "# Python program to check if a character is a vowel or consonant\n",
        "\n",
        "# Define the character\n",
        "\n",
        "char = 'x'\n",
        "\n",
        "# Check if the character is a vowel or consonant\n",
        "if char in ['a', 'e', 'i', 'o', 'u']:\n",
        "    print(char, \"is a vowel\")\n",
        "else:\n",
        "    print(char, \"is a consonant\")"
      ],
      "metadata": {
        "colab": {
          "base_uri": "https://localhost:8080/"
        },
        "id": "wXs1ALprwFra",
        "outputId": "70f96092-0838-4b6d-b3f5-f259bee9ac98"
      },
      "execution_count": 34,
      "outputs": [
        {
          "output_type": "stream",
          "name": "stdout",
          "text": [
            "x is a consonant\n"
          ]
        }
      ]
    },
    {
      "cell_type": "code",
      "source": [
        "num=int(input(\"ente a number: \"))\n",
        "if num%2==0:\n",
        "  print(\"even number is:\")\n",
        "else:\n",
        "  print(\"odd number is:\")"
      ],
      "metadata": {
        "colab": {
          "base_uri": "https://localhost:8080/"
        },
        "id": "8_unbhIqxTWm",
        "outputId": "3ced5039-0059-4693-b0fb-127ad6b72d10"
      },
      "execution_count": 45,
      "outputs": [
        {
          "output_type": "stream",
          "name": "stdout",
          "text": [
            "ente a number: 100\n",
            "even number is:\n"
          ]
        }
      ]
    },
    {
      "cell_type": "code",
      "source": [
        "# Python function to calculate the absolute value of a number without using the abs() function\n",
        "def absolute_value(num):\n",
        "    if num < 0:\n",
        "        return -num\n",
        "    else:\n",
        "        return num\n",
        "\n",
        "# Test the function with a number\n",
        "num = -15\n",
        "print(\"The absolute value of\", num, \"is\", absolute_value(num))"
      ],
      "metadata": {
        "colab": {
          "base_uri": "https://localhost:8080/"
        },
        "id": "fWyFoblI1ihQ",
        "outputId": "59cd7dfd-0b88-4db1-e9e7-224d50676f20"
      },
      "execution_count": 46,
      "outputs": [
        {
          "output_type": "stream",
          "name": "stdout",
          "text": [
            "The absolute value of -15 is 15\n"
          ]
        }
      ]
    },
    {
      "cell_type": "code",
      "source": [
        "num1=10\n",
        "num2=20\n",
        "num3=30\n",
        "if (num1>num2)and(num1>num3):\n",
        "  max_num=num1\n",
        "  print(\"maximum number is\",max_num)\n",
        "elif (num2>num1)and (num2>num3):\n",
        "  max_num=num2\n",
        "  print(\"maximum number is:\",max_num)\n",
        "else:\n",
        "  (num3>num1) and (num3>num2)\n",
        "  max_num=num3\n",
        "  print(\"maximum number is \",max_num)\n"
      ],
      "metadata": {
        "colab": {
          "base_uri": "https://localhost:8080/"
        },
        "id": "tFkAwMod4Dya",
        "outputId": "dda85112-fff9-461d-d840-5765b8c70f3f"
      },
      "execution_count": 48,
      "outputs": [
        {
          "output_type": "stream",
          "name": "stdout",
          "text": [
            "maximum number is  30\n"
          ]
        }
      ]
    },
    {
      "cell_type": "code",
      "source": [
        "# Python program to check if a string is a palindrome\n",
        "\n",
        "# Define the string\n",
        "string = \"radar\"\n",
        "\n",
        "# Reverse the string\n",
        "rev_string = string[::-1]\n",
        "\n",
        "# Check if the string is a palindrome\n",
        "if string == rev_string:\n",
        "    print(string, \"is a palindrome\")\n",
        "else:\n",
        "    print(string, \"is not a palindrome\")"
      ],
      "metadata": {
        "colab": {
          "base_uri": "https://localhost:8080/"
        },
        "id": "zz7qJyhK5_ef",
        "outputId": "06921c0e-fdf5-48ed-aa08-5a8cdf2ef2a3"
      },
      "execution_count": 50,
      "outputs": [
        {
          "output_type": "stream",
          "name": "stdout",
          "text": [
            "radar is a palindrome\n"
          ]
        }
      ]
    },
    {
      "cell_type": "code",
      "source": [
        "num=75\n",
        "if num>=90:\n",
        "  print(\"A+\")\n",
        "elif num>=74:\n",
        "  print(\"A\")\n",
        "else:\n",
        "  num>=60\n",
        "  print(\"B\")"
      ],
      "metadata": {
        "colab": {
          "base_uri": "https://localhost:8080/"
        },
        "id": "2zKb-cKd_NIQ",
        "outputId": "ad1f61af-2afb-41e3-fbb1-00c909625c01"
      },
      "execution_count": 52,
      "outputs": [
        {
          "output_type": "stream",
          "name": "stdout",
          "text": [
            "A\n"
          ]
        }
      ]
    },
    {
      "cell_type": "code",
      "source": [
        "num1=10\n",
        "num2=20\n",
        "num3=30\n",
        "if (num1>=num2)and (num1>=num2):\n",
        "    max=num1\n",
        "\n",
        "    print(\"largest number is\",max)\n",
        "    if (num2>=num1) and (num2>=num3):\n",
        "      max=num2\n",
        "    print(\"largest number is\",max)\n",
        "else:\n",
        "  num3>=num1 and num3>=num2\n",
        "  max=num3\n",
        "  print(\"largest number is \",max)\n",
        "\n",
        ""
      ],
      "metadata": {
        "colab": {
          "base_uri": "https://localhost:8080/"
        },
        "id": "WK5QQOieAOro",
        "outputId": "bbf17806-3834-4f05-eba8-27ecef43397d"
      },
      "execution_count": 13,
      "outputs": [
        {
          "output_type": "stream",
          "name": "stdout",
          "text": [
            "largest number is  30\n"
          ]
        }
      ]
    },
    {
      "cell_type": "code",
      "source": [
        "slide1=5\n",
        "slide2=7\n",
        "slide3=9\n",
        "if slide1==slide2==slide3:\n",
        "  print(\"tringle of equilator\")\n",
        "elif slide1==slide2 or slide2==slide3 or slide3==slide1:\n",
        "  print(\"The triangle is isosceles\")\n",
        "else:\n",
        "  print(\"The triangle is scalene\")"
      ],
      "metadata": {
        "colab": {
          "base_uri": "https://localhost:8080/"
        },
        "id": "1LB9GgkpLIrd",
        "outputId": "b73a7f5a-a16c-4668-8e87-d75e8bbafefa"
      },
      "execution_count": 15,
      "outputs": [
        {
          "output_type": "stream",
          "name": "stdout",
          "text": [
            "The triangle is scalene\n"
          ]
        }
      ]
    },
    {
      "cell_type": "code",
      "source": [
        "year=int(input(\"enter a number\"))\n",
        "if year % 4==0:\n",
        "  if year % 100==0:\n",
        "    if year % 400==0:\n",
        "      print(\"is year is leap\",year)\n",
        "    else:\n",
        "        print(\"is year not leap\",year)\n",
        "  else:\n",
        "      print(\"is year leap\",year)\n",
        "else:\n",
        "    print(\"is year not leap\",year)\n"
      ],
      "metadata": {
        "colab": {
          "base_uri": "https://localhost:8080/"
        },
        "id": "ehQjdwkwOudy",
        "outputId": "43523ea3-fce0-440c-d4ac-3c9f79d4e59c"
      },
      "execution_count": 17,
      "outputs": [
        {
          "output_type": "stream",
          "name": "stdout",
          "text": [
            "enter a number3430\n",
            "is year not leap 3430\n"
          ]
        }
      ]
    },
    {
      "cell_type": "code",
      "source": [
        "num=-5\n",
        "if num>=0:\n",
        "  print(\"numberb is positive\")\n",
        "else:\n",
        "  print(\"number is negative\")"
      ],
      "metadata": {
        "colab": {
          "base_uri": "https://localhost:8080/"
        },
        "id": "RkRCRQLNQP93",
        "outputId": "3f1bc932-d907-4a2c-cfe8-61dcb7dce3a6"
      },
      "execution_count": 18,
      "outputs": [
        {
          "output_type": "stream",
          "name": "stdout",
          "text": [
            "number is negative\n"
          ]
        }
      ]
    },
    {
      "cell_type": "code",
      "source": [
        "year=int(input(\"enter a number\"))\n",
        "if year>=13 and year<=19:\n",
        "  print(\"person is teen ager\",year)\n",
        "else:\n",
        "  print(\"person is not teen ager\")\n"
      ],
      "metadata": {
        "colab": {
          "base_uri": "https://localhost:8080/"
        },
        "id": "Y8Mzf7FAQ38O",
        "outputId": "c67501aa-adf5-41bc-9de1-ba1e8c6e60ca"
      },
      "execution_count": 21,
      "outputs": [
        {
          "output_type": "stream",
          "name": "stdout",
          "text": [
            "enter a number20\n",
            "person is not teen ager\n"
          ]
        }
      ]
    },
    {
      "cell_type": "code",
      "source": [
        "# Python program to determine the type of angle based on its measure\n",
        "\n",
        "# Define the angle in degrees\n",
        "angle = 120\n",
        "\n",
        "# Check if the angle is acute, right, or obtuse\n",
        "if angle < 90:\n",
        "    print(\"The angle is acute\")\n",
        "elif angle == 90:\n",
        "    print(\"The angle is right\")\n",
        "else:\n",
        "    print(\"The angle is obtuse\")\n"
      ],
      "metadata": {
        "colab": {
          "base_uri": "https://localhost:8080/"
        },
        "id": "pdbRGIL7RRK_",
        "outputId": "893585b0-09ce-4448-bda9-0e8bb5b429e2"
      },
      "execution_count": 22,
      "outputs": [
        {
          "output_type": "stream",
          "name": "stdout",
          "text": [
            "The angle is obtuse\n"
          ]
        }
      ]
    },
    {
      "cell_type": "code",
      "source": [
        "# Python program to calculate the roots of a quadratic equation\n",
        "\n",
        "# Coefficients of the quadratic equation\n",
        "a = 1\n",
        "b = 5\n",
        "c = 6\n",
        "\n",
        "# Calculate the discriminant\n",
        "d = b**2 - 4*a*c\n",
        "\n",
        "# Find the two solutions\n",
        "sol1 = (-b - (d)**0.5) / (2*a)\n",
        "sol2 = (-b + (d)**0.5) / (2*a)\n",
        "\n",
        "# Print the solutions\n",
        "print('The solutions are {0} and {1}'.format(sol1, sol2))\n"
      ],
      "metadata": {
        "colab": {
          "base_uri": "https://localhost:8080/"
        },
        "id": "NTqR3Q7aSxtc",
        "outputId": "06bd1dfd-8494-4b7d-abc1-c9f1f11f1f6c"
      },
      "execution_count": 23,
      "outputs": [
        {
          "output_type": "stream",
          "name": "stdout",
          "text": [
            "The solutions are -3.0 and -2.0\n"
          ]
        }
      ]
    },
    {
      "cell_type": "code",
      "source": [
        "# Python program to determine the day of the week based on a user-provided number\n",
        "\n",
        "# Prompt the user to input a number\n",
        "day = int(input(\"Enter a number from 1 to 7: \"))\n",
        "\n",
        "# Display the corresponding day for the given number\n",
        "if day == 1:\n",
        "    print(\"The corresponding day is Monday\")\n",
        "elif day == 2:\n",
        "    print(\"The corresponding day is Tuesday\")\n",
        "elif day == 3:\n",
        "    print(\"The corresponding day is Wednesday\")\n",
        "elif day == 4:\n",
        "    print(\"The corresponding day is Thursday\")\n",
        "elif day == 5:\n",
        "    print(\"The corresponding day is Friday\")\n",
        "elif day == 6:\n",
        "    print(\"The corresponding day is Saturday\")\n",
        "elif day == 7:\n",
        "    print(\"The corresponding day is Sunday\")\n",
        "else:\n",
        "    print(\"Wrong input! Please enter a number from 1 to 7.\")\n",
        "\n"
      ],
      "metadata": {
        "colab": {
          "base_uri": "https://localhost:8080/"
        },
        "id": "-HUuEN8iTSFv",
        "outputId": "c12e7f43-d8de-487d-f342-989c2c60893c"
      },
      "execution_count": 28,
      "outputs": [
        {
          "output_type": "stream",
          "name": "stdout",
          "text": [
            "Enter a number from 1 to 7: 1\n",
            "The corresponding day is Monday\n"
          ]
        }
      ]
    },
    {
      "cell_type": "code",
      "source": [
        "# Python program to check if a number is prime or not\n",
        "\n",
        "# Input a number from the user\n",
        "num = int(input(\"Enter a number: \"))\n",
        "\n",
        "# Check if the number is prime\n",
        "if num > 1:\n",
        "    if num == 2:\n",
        "        print(num, \"is a prime number\")\n",
        "    else:\n",
        "        for i in range(2, num):\n",
        "            if (num % i) == 0:\n",
        "                print(num, \"is not a prime number\")\n",
        "                break\n",
        "        else:\n",
        "            print(num, \"is a prime number\")\n",
        "else:\n",
        "    print(num, \"is not a prime number\")\n"
      ],
      "metadata": {
        "colab": {
          "base_uri": "https://localhost:8080/"
        },
        "id": "ZF2kOweEUiVw",
        "outputId": "9e6dfec8-3238-445f-c7f0-7558577f122e"
      },
      "execution_count": 29,
      "outputs": [
        {
          "output_type": "stream",
          "name": "stdout",
          "text": [
            "Enter a number: 19\n",
            "19 is a prime number\n"
          ]
        }
      ]
    },
    {
      "cell_type": "code",
      "source": [
        "range(0,90)\n",
        "if num>=80:\n",
        "  print(\"A+\")\n",
        "elif num>=75 and num<=80:\n",
        "  print(\"A\")\n",
        "else:\n",
        "  print(\"B+\")\n"
      ],
      "metadata": {
        "colab": {
          "base_uri": "https://localhost:8080/"
        },
        "id": "ilW09BKjV8jy",
        "outputId": "80162f54-7388-4a43-969c-6a91fa68bbfa"
      },
      "execution_count": 32,
      "outputs": [
        {
          "output_type": "stream",
          "name": "stdout",
          "text": [
            "B+\n"
          ]
        }
      ]
    },
    {
      "cell_type": "code",
      "source": [
        "# Python program to determine the type of a triangle based on its angles\n",
        "\n",
        "# Input the three angles of the triangle\n",
        "angle1 = int(input(\"Enter the first angle: \"))\n",
        "angle2 = int(input(\"Enter the second angle: \"))\n",
        "angle3 = int(input(\"Enter the third angle: \"))\n",
        "\n",
        "# Check the type of the triangle based on its angles\n",
        "if angle1 + angle2 + angle3 == 180:\n",
        "    if angle1 == 90 or angle2 == 90 or angle3 == 90:\n",
        "        print(\"The triangle is a right-angled triangle\")\n",
        "    elif angle1 < 90 and angle2 < 90 and angle3 < 90:\n",
        "        print(\"The triangle is an acute-angled triangle\")\n",
        "    else:\n",
        "        print(\"The triangle is an obtuse-angled triangle\")\n",
        "else:\n",
        "    print(\"The input angles do not form a triangle\")\n"
      ],
      "metadata": {
        "colab": {
          "base_uri": "https://localhost:8080/"
        },
        "id": "qp0DNbPHYImj",
        "outputId": "4a7cffc6-9bd1-49c6-d275-fd608d2b0f85"
      },
      "execution_count": 34,
      "outputs": [
        {
          "output_type": "stream",
          "name": "stdout",
          "text": [
            "Enter the first angle: 15\n",
            "Enter the second angle: 70\n",
            "Enter the third angle: 80\n",
            "The input angles do not form a triangle\n"
          ]
        }
      ]
    },
    {
      "cell_type": "code",
      "source": [
        "# Python program to categorize a person's BMI\n",
        "\n",
        "# Input the person's weight and height\n",
        "weight = float(input(\"Enter the person's weight in kg: \"))\n",
        "height = float(input(\"Enter the person's height in meters: \"))\n",
        "\n",
        "# Calculate the BMI\n",
        "bmi = weight / (height ** 2)\n",
        "\n",
        "# Categorize the BMI\n",
        "if bmi < 18.5:\n",
        "    print(\"The person is underweight.\")\n",
        "elif 18.5 <= bmi < 25:\n",
        "    print(\"The person has a normal weight.\")\n",
        "elif 25 <= bmi < 30:\n",
        "    print(\"The person is overweight.\")\n",
        "else:\n",
        "    print(\"The person is obese.\")\n"
      ],
      "metadata": {
        "colab": {
          "base_uri": "https://localhost:8080/"
        },
        "id": "BTAQPgi8Z5Jv",
        "outputId": "4074c6e7-afbb-448c-8956-2d4d3b89c1d3"
      },
      "execution_count": 2,
      "outputs": [
        {
          "output_type": "stream",
          "name": "stdout",
          "text": [
            "Enter the person's weight in kg: 55\n",
            "Enter the person's height in meters: 2.5\n",
            "The person is underweight.\n"
          ]
        }
      ]
    },
    {
      "cell_type": "code",
      "source": [
        "# Python script to determine the type of a character\n",
        "\n",
        "# Input the character from the user\n",
        "char = input(\"Enter a character: \")\n",
        "\n",
        "# Check the type of the character\n",
        "if char.isalpha():\n",
        "    if char.islower():\n",
        "        print(\"The character is a lowercase letter.\")\n",
        "    else:\n",
        "        print(\"The character is an uppercase letter.\")\n",
        "elif char.isdigit():\n",
        "    print(\"The character is a digit.\")\n",
        "else:\n",
        "    print(\"The character is a special character.\")\n"
      ],
      "metadata": {
        "colab": {
          "base_uri": "https://localhost:8080/"
        },
        "id": "Gl_y6qkp7Reu",
        "outputId": "5da27162-ae33-484f-81f4-7721cbb4a069"
      },
      "execution_count": 3,
      "outputs": [
        {
          "output_type": "stream",
          "name": "stdout",
          "text": [
            "Enter a character: pwskills\n",
            "The character is a lowercase letter.\n"
          ]
        }
      ]
    },
    {
      "cell_type": "code",
      "source": [
        "# Python program to calculate electricity bill\n",
        "\n",
        "# Input the units consumed by the user\n",
        "units = int(input(\"Enter the number of units consumed: \"))\n",
        "\n",
        "# Calculate the electricity bill based on consumption slabs\n",
        "if units <= 100:\n",
        "    bill = units * 1.5\n",
        "elif units <= 200:\n",
        "    bill = 150 + (units - 100) * 2.5\n",
        "elif units <= 300:\n",
        "    bill = 350 + (units - 200) * 4\n",
        "else:\n",
        "    bill = 550 + (units - 300) * 5\n",
        "\n",
        "# Add fixed charges\n",
        "fixed_charge = 50  # Example of a fixed charge\n",
        "total_bill = bill + fixed_charge\n",
        "\n",
        "# Display the total electricity bill\n",
        "print(f\"The total electricity bill is: {total_bill}\")\n"
      ],
      "metadata": {
        "colab": {
          "base_uri": "https://localhost:8080/"
        },
        "id": "Ko1iDEXT7-nm",
        "outputId": "481b3896-308a-4b32-a1b5-678e4cee8675"
      },
      "execution_count": 4,
      "outputs": [
        {
          "output_type": "stream",
          "name": "stdout",
          "text": [
            "Enter the number of units consumed: 200\n",
            "The total electricity bill is: 450.0\n"
          ]
        }
      ]
    },
    {
      "cell_type": "code",
      "source": [
        "month=int(input(\"enter a number\"))\n",
        "if month==1:\n",
        "  print(\"jan\")\n",
        "elif month==2:\n",
        "  print(\"feb\")\n",
        "elif month==3:\n",
        "  print(\"mar\")\n",
        "elif month==4:\n",
        "  print(\"april\")\n",
        "elif month==5:\n",
        "  print(\"may\")\n",
        "elif month==6:\n",
        "  print(\"june\")\n",
        "elif month==7:\n",
        "  print(\"july\")\n",
        "elif month==8:\n",
        "  print(\"aug\")\n",
        "elif month==9:\n",
        "  print(\"sep\")\n",
        "elif month==10:\n",
        "  print(\"oct\")\n",
        "elif month==11:\n",
        "  print(\"nov\")\n",
        "else:\n",
        "  print(\"dec\")"
      ],
      "metadata": {
        "colab": {
          "base_uri": "https://localhost:8080/"
        },
        "id": "kZlHrE3I8Szl",
        "outputId": "a084bafb-0549-4869-c83d-7fd294926c2f"
      },
      "execution_count": 6,
      "outputs": [
        {
          "output_type": "stream",
          "name": "stdout",
          "text": [
            "enter a number6\n",
            "june\n"
          ]
        }
      ]
    },
    {
      "cell_type": "code",
      "source": [
        "# Python program to determine the type of a year and month\n",
        "\n",
        "# Input the year from the user\n",
        "year = int(input(\"Enter the year: \"))\n",
        "\n",
        "# Check if the year is a leap year\n",
        "if (year % 4) == 0:\n",
        "    if (year % 100) == 0:\n",
        "        if (year % 400) == 0:\n",
        "            print(f\"{year} is a leap year\")\n",
        "        else:\n",
        "            print(f\"{year} is not a leap year\")\n",
        "    else:\n",
        "        print(f\"{year} is a leap year\")\n",
        "else:\n",
        "    print(f\"{year} is not a leap year\")\n",
        "\n",
        "# Input the month from the user\n",
        "month = int(input(\"Enter the month (1-12): \"))\n",
        "\n",
        "# Check the number of days in the month\n",
        "if month in [1, 3, 5, 7, 8, 10, 12]:\n",
        "    print(\"This month has 31 days\")\n",
        "elif month in [4, 6, 9, 11]:\n",
        "    print(\"This month has 30 days\")\n",
        "else:\n",
        "    if year % 4 == 0 and (year % 100 != 0 or year % 400 == 0):\n",
        "        print(\"This month has 29 days (leap year)\")\n",
        "    else:\n",
        "        print(\"This month has 28 days (common year)\")\n"
      ],
      "metadata": {
        "colab": {
          "base_uri": "https://localhost:8080/"
        },
        "id": "3-B7gPJM-RE1",
        "outputId": "6b5ec7af-7eef-4b66-92a8-c9e3c628ce8e"
      },
      "execution_count": 7,
      "outputs": [
        {
          "output_type": "stream",
          "name": "stdout",
          "text": [
            "Enter the year: 45\n",
            "45 is not a leap year\n",
            "Enter the month (1-12): 5\n",
            "This month has 31 days\n"
          ]
        }
      ]
    },
    {
      "cell_type": "code",
      "source": [
        "# Python program to calculate the factorial of a number using recursion\n",
        "\n",
        "def factorial(n):\n",
        "    if n == 0 or n == 1:\n",
        "        return 1\n",
        "    else:\n",
        "        return n * factorial(n - 1)\n",
        "\n",
        "# Input a number from the user\n",
        "num = int(input(\"Enter a number: \"))\n",
        "\n",
        "# Check if the number is negative\n",
        "if num < 0:\n",
        "    print(\"Factorial does not exist for negative numbers\")\n",
        "elif num == 0:\n",
        "    print(\"The factorial of 0 is 1\")\n",
        "else:\n",
        "    print(\"The factorial of\", num, \"is\", factorial(num))\n"
      ],
      "metadata": {
        "colab": {
          "base_uri": "https://localhost:8080/"
        },
        "id": "iBGFPYHk-9Li",
        "outputId": "e1fce80d-47a0-450f-c573-4bf7bf85fb23"
      },
      "execution_count": 8,
      "outputs": [
        {
          "output_type": "stream",
          "name": "stdout",
          "text": [
            "Enter a number: 10\n",
            "The factorial of 10 is 3628800\n"
          ]
        }
      ]
    },
    {
      "cell_type": "code",
      "source": [
        "# Set the initial balance\n",
        "balance = 1000\n",
        "\n",
        "# Display the ATM menu\n",
        "print(\"ATM Menu:\")\n",
        "print(\"1. Check Balance\")\n",
        "print(\"2. Deposit\")\n",
        "print(\"3. Withdraw\")\n",
        "print(\"4. Exit\")\n",
        "\n",
        "# Get the user's choice\n",
        "choice = input(\"Enter your choice: \")\n",
        "\n",
        "# Check the user's choice and perform the corresponding action\n",
        "if choice == \"1\":\n",
        "    print(\"Your balance is:\", balance)\n",
        "elif choice == \"2\":\n",
        "    amount = float(input(\"Enter the amount to deposit: \"))\n",
        "    balance += amount\n",
        "    print(\"Deposit successful. Your new balance is:\", balance)\n",
        "elif choice == \"3\":\n",
        "    amount = float(input(\"Enter the amount to withdraw: \"))\n",
        "    if amount > balance:\n",
        "        print(\"Insufficient funds\")\n",
        "    else:\n",
        "        balance -= amount\n",
        "        print(\"Withdrawal successful. Your new balance is:\", balance)\n",
        "elif choice == \"4\":\n",
        "    print(\"Thank you for using the ATM. Goodbye!\")\n",
        "else:\n",
        "    print(\"Invalid choice. Please try again.\")\n"
      ],
      "metadata": {
        "colab": {
          "base_uri": "https://localhost:8080/"
        },
        "id": "gXjX-1qIBHgV",
        "outputId": "862dec82-6b82-4047-f751-5e7a92938410"
      },
      "execution_count": 11,
      "outputs": [
        {
          "output_type": "stream",
          "name": "stdout",
          "text": [
            "ATM Menu:\n",
            "1. Check Balance\n",
            "2. Deposit\n",
            "3. Withdraw\n",
            "4. Exit\n",
            "Enter your choice: 3\n",
            "Enter the amount to withdraw: 500\n",
            "Withdrawal successful. Your new balance is: 500.0\n"
          ]
        }
      ]
    },
    {
      "cell_type": "code",
      "source": [
        "# Input temperature in Celsius\n",
        "celsius = float(input(\"Enter temperature in Celsius: \"))\n",
        "\n",
        "# Convert to Fahrenheit\n",
        "fahrenheit = (celsius * 9/5) + 32\n",
        "\n",
        "# Display the result\n",
        "if fahrenheit < 32:\n",
        "    print(\"Temperature in Fahrenheit:\", fahrenheit, \"It's freezing!\")\n",
        "elif fahrenheit > 100:\n",
        "    print(\"Temperature in Fahrenheit:\", fahrenheit, \"It's boiling!\")\n",
        "else:\n",
        "    print(\"Temperature in Fahrenheit:\", fahrenheit)\n"
      ],
      "metadata": {
        "colab": {
          "base_uri": "https://localhost:8080/"
        },
        "id": "xqhYzoLCEH4x",
        "outputId": "8b53a743-1fba-47e5-8fac-213df7c55379"
      },
      "execution_count": 12,
      "outputs": [
        {
          "output_type": "stream",
          "name": "stdout",
          "text": [
            "Enter temperature in Celsius: 56\n",
            "Temperature in Fahrenheit: 132.8 It's boiling!\n"
          ]
        }
      ]
    },
    {
      "cell_type": "code",
      "source": [
        "tax=int(input(\"enter number\"))\n",
        "if tax >=0 and tax <= 500000:\n",
        "  print(\"tere is no tax\")\n",
        "else:\n",
        "  print(\"governemnt take tax \")\n"
      ],
      "metadata": {
        "colab": {
          "base_uri": "https://localhost:8080/"
        },
        "id": "iwLqnFVZEsZV",
        "outputId": "513c643d-eb47-4cbb-d05e-a432fcb580bc"
      },
      "execution_count": 17,
      "outputs": [
        {
          "output_type": "stream",
          "name": "stdout",
          "text": [
            "enter number400000\n",
            "tere is no tax\n"
          ]
        }
      ]
    },
    {
      "cell_type": "code",
      "source": [
        "import random\n",
        "\n",
        "# Define the game options\n",
        "game_options = [\"rock\", \"paper\", \"scissors\"]\n",
        "\n",
        "while True:\n",
        "    # Get user's choice\n",
        "    user_choice = input(\"Enter rock, paper, or scissors: \").lower()\n",
        "\n",
        "    # Get computer's choice\n",
        "    computer_choice = random.choice(game_options)\n",
        "\n",
        "    # Determine the winner\n",
        "    if user_choice in game_options:\n",
        "        print(\"Computer's choice: \" + computer_choice)\n",
        "        if user_choice == computer_choice:\n",
        "            print(\"It's a tie!\")\n",
        "        elif (user_choice == \"rock\" and computer_choice == \"scissors\") or (user_choice == \"scissors\" and computer_choice == \"paper\") or (user_choice == \"paper\" and computer_choice == \"rock\"):\n",
        "            print(\"You win!\")\n",
        "        else:\n",
        "            print(\"Computer wins!\")\n",
        "    else:\n",
        "        print(\"Invalid choice. Please try again.\")\n",
        "\n",
        "    play_again = input(\"Do you want to play again? (yes/no): \").lower()\n",
        "    if play_again != \"yes\":\n",
        "        break\n"
      ],
      "metadata": {
        "colab": {
          "base_uri": "https://localhost:8080/"
        },
        "id": "mbJVvjOmI2C6",
        "outputId": "9cf347a8-269e-43bb-ecc8-aed390caba8c"
      },
      "execution_count": 20,
      "outputs": [
        {
          "name": "stdout",
          "output_type": "stream",
          "text": [
            "Enter rock, paper, or scissors: rock\n",
            "Computer's choice: scissors\n",
            "You win!\n",
            "Do you want to play again? (yes/no): yes\n",
            "Enter rock, paper, or scissors: paper\n",
            "Computer's choice: paper\n",
            "It's a tie!\n",
            "Do you want to play again? (yes/no): no\n"
          ]
        }
      ]
    },
    {
      "cell_type": "code",
      "source": [],
      "metadata": {
        "id": "9G0yd_JmJ_F4"
      },
      "execution_count": null,
      "outputs": []
    }
  ]
}